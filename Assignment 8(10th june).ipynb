{
 "cells": [
  {
   "cell_type": "code",
   "execution_count": 4,
   "id": "5b3fe9f8",
   "metadata": {},
   "outputs": [
    {
     "name": "stdout",
     "output_type": "stream",
     "text": [
      "The maximum number in the list is: 9  using built-in function\n",
      "Largest element is: 99  using user-defined function\n"
     ]
    }
   ],
   "source": [
    "1. In Python, what is the difference between a built-in function and a user-defined function? Provide an example of each.\n",
    "\n",
    "# Buit-in function:\n",
    "-Functions that are pre-defined in the Python language and are readily available for use. \n",
    "-They are provided by python standard library. Some built-in functions are print(), len(), input(), range(), and type() etc.\n",
    "-Example for built-in funtions:\n",
    "    \n",
    "numbers = [5, 2, 9, 1, 7]\n",
    "max_number = max(numbers)\n",
    "print(\"The maximum number in the list is:\", max_number,\" using built-in function\") # output: 9\n",
    "       \n",
    "\n",
    "# User-defined function:\n",
    "-Funtion that are created by the user to perform some specific task are called user-defined function.\n",
    "-Using def keyword we can define own functions.\n",
    "-Example for user-defined function\n",
    "\n",
    "def FindMax(list1):\n",
    "    maxlist = list1[0]\n",
    "    for x in list1:\n",
    "        if x > maxlist:\n",
    "                maxlist = x\n",
    "    return maxlist\n",
    "\n",
    "list1 = [10, 20, 4, 45, 99]\n",
    "print(\"Largest element is:\", FindMax(list1),\" using user-defined function\")\n"
   ]
  },
  {
   "cell_type": "code",
   "execution_count": 7,
   "id": "6d845585",
   "metadata": {},
   "outputs": [
    {
     "name": "stdout",
     "output_type": "stream",
     "text": [
      "Hello Hi\n",
      "Hello Hi\n"
     ]
    }
   ],
   "source": [
    "2. How can you pass arguments to a function in Python? Explain the difference between positional arguments and keyword arguments.\n",
    "\n",
    "In function argument can be passed in two way such as positional arguments and keyword arguments.\n",
    "\n",
    " Positional Arguments:\n",
    " - Arguments are passed to a function based on their position or order. \n",
    " -The number of arguments should be same as mentioned inside the functional definition.\n",
    " Example:\n",
    "\n",
    "def stringConcat(string1,string2):\n",
    "    result= string1+string2\n",
    "    print (result)\n",
    "stringConcat(\"Hello \",\"Hi\")\n",
    "\n",
    " Keyword Arguments:\n",
    " -Keyword Arguments are passed to the function using argument name followed by the values. \n",
    " -Example\n",
    "\n",
    "def stringConcat(string1,string2):\n",
    "    result= string1+string2\n",
    "    print (result)\n",
    "stringConcat(string2=\"Hi\",string1=\"Hello \")"
   ]
  },
  {
   "cell_type": "code",
   "execution_count": 8,
   "id": "ae430ab4",
   "metadata": {},
   "outputs": [
    {
     "data": {
      "text/plain": [
       "'B Grade'"
      ]
     },
     "execution_count": 8,
     "metadata": {},
     "output_type": "execute_result"
    }
   ],
   "source": [
    "3. What is the purpose of the return statement in a function? Can a function have multiple return statements? Explain with an example.\n",
    "The return statement in a function is used to specify the value that a function should return when it is called.\n",
    "A function can have multiple return statements that allows you to conditionally return different values based on certain conditions or to have different exit points within the function.\n",
    "\n",
    "Example:\n",
    "def student_grade(score):\n",
    "    if score >= 90:\n",
    "        return \"A Grade\"\n",
    "    elif score >= 80:\n",
    "        return \"B Grade\"\n",
    "    elif score >= 70:\n",
    "        return \"C Grade\"\n",
    "    else:\n",
    "        return \"D Grade\"\n",
    "\n",
    "student_grade(85)"
   ]
  },
  {
   "cell_type": "code",
   "execution_count": 9,
   "id": "aed1f767",
   "metadata": {},
   "outputs": [
    {
     "name": "stdout",
     "output_type": "stream",
     "text": [
      "25\n"
     ]
    }
   ],
   "source": [
    "4. What are lambda functions in Python? How are they different from regular functions? Provide an example where a lambda function can be useful.\n",
    "\n",
    "Lambda functions, also known as anonymous functions or single-expression functions. They are defined using lambda keyword.\n",
    "Syntax:\n",
    "lambda arguments: expression\n",
    "\n",
    "Lambda functions:\n",
    "They are defined using the lambda keyword followed by the function arguments and a colon, all in a single line. \n",
    "They are single-expression funtion to perform singlr task.\n",
    "Lambda functions are often used as throwaway functions, primarily as arguments to other functions.\n",
    "\n",
    "Regular functions:\n",
    "They are defined using the def keyword, followed by the function name, parentheses for arguments, a colon, and an indented block of code.\n",
    "They can perform multiple statement which can perform complex task.\n",
    "Regular functions, on the other hand, are typically used for reusable code blocks that can be called multiple times within a program.\n",
    "\n",
    "Example:\n",
    "\n",
    "square = lambda x: x ** 2\n",
    "print(square(5))"
   ]
  },
  {
   "cell_type": "code",
   "execution_count": 12,
   "id": "69eec7b8",
   "metadata": {},
   "outputs": [
    {
     "name": "stdout",
     "output_type": "stream",
     "text": [
      "Hello  John\n",
      "Hello  Ais\n"
     ]
    }
   ],
   "source": [
    "5. How does the concept of \"scope\" apply to functions in Python? Explain the difference between local scope and global scope.\n",
    "\n",
    "Local Scope:\n",
    "-Variables that are defined inside a function or class are known as local scope variables. \n",
    "-Local variables can only accessed inside the function.\n",
    "-Example:\n",
    "def greet():\n",
    "    name=\"John\"\n",
    "    print(\"Hello \",name)\n",
    "greet()\n",
    "\n",
    "Global Scope:\n",
    "-Variables that are defined outside a function or class are known as global scope variables. \n",
    "-Global variables can be accessed throughout the program.\n",
    "-They are accessed using global keyword.\n",
    "-Example:\n",
    "name=\"Ais\"\n",
    "def greet():\n",
    "    global name \n",
    "    print(\"Hello \", name)\n",
    "greet()    "
   ]
  },
  {
   "cell_type": "code",
   "execution_count": 13,
   "id": "9dd2caf1",
   "metadata": {},
   "outputs": [
    {
     "data": {
      "text/plain": [
       "(1001, 'Alice', 25)"
      ]
     },
     "execution_count": 13,
     "metadata": {},
     "output_type": "execute_result"
    }
   ],
   "source": [
    "6. How can you use the \"return\" statement in a Python function to return multiple values?\n",
    "The return statement in a function to return multiple values by separating them with commas.\n",
    "example:\n",
    "\n",
    "def employee(emp_id,name,age):\n",
    "    return emp_id,name,age\n",
    "\n",
    "employee(1001,\"Alice\",25)\n"
   ]
  },
  {
   "cell_type": "code",
   "execution_count": 2,
   "id": "425edce3",
   "metadata": {},
   "outputs": [
    {
     "name": "stdout",
     "output_type": "stream",
     "text": [
      "-------Pass by value-------\n",
      "Before function call:  5\n",
      "Before update:  5\n",
      "After update:  15\n",
      "After function call:  5\n",
      "-------Pass by Reference-------\n",
      "Before function call:  [1, 2, 3]\n",
      "Before update:  [1, 2, 3]\n",
      "After update:  [1, 2, 3, 4]\n",
      "After function call:  [1, 2, 3, 4]\n"
     ]
    }
   ],
   "source": [
    "# 7. What is the difference between the \"pass by value\" and \"pass by reference\" concepts when it comes to function arguments in Python?\n",
    "\n",
    "# Pass by value:\n",
    "# In pass by value the argument passed to the function is the copy of its original object. If we change or update the value of object inside the function, then original object will not change.\n",
    "\n",
    "# Pass by reference:\n",
    "# In pass by reference, the argument passed to the function’s parameter is the original object. If we change the value of object inside the function, the original object will also change.\n",
    "\n",
    "#Example for pass by value and paa by reference\n",
    "\n",
    "def pass_by_value(value):\n",
    "    print(\"Before update: \", value)\n",
    "    value += 10\n",
    "    print(\"After update: \", value)\n",
    "\n",
    "def pass_by_reference(my_list):\n",
    "    print(\"Before update: \", my_list)\n",
    "    my_list.append(4)\n",
    "    print(\"After update: \", my_list)\n",
    "\n",
    "# Testing pass by value\n",
    "num = 5\n",
    "print(\"-------Pass by value-------\")\n",
    "print(\"Before function call: \", num)\n",
    "pass_by_value(num)\n",
    "print(\"After function call: \", num)\n",
    "\n",
    "# Testing pass by reference\n",
    "my_list = [1, 2, 3]\n",
    "print(\"-------Pass by Reference-------\")\n",
    "print(\"Before function call: \", my_list)\n",
    "pass_by_reference(my_list)\n",
    "print(\"After function call: \", my_list)\n"
   ]
  },
  {
   "cell_type": "code",
   "execution_count": 2,
   "id": "fa2cbd68",
   "metadata": {},
   "outputs": [
    {
     "name": "stdout",
     "output_type": "stream",
     "text": [
      "Enter the number : 5\n",
      "Logarithm of given value is: 325.0\n",
      "Exponential of given value is: 148.41265995084171\n",
      "Power of 2 with exponent given value is: 32\n",
      "Square root of given value is: 2.23606797749979\n"
     ]
    }
   ],
   "source": [
    "# 8. Create a function that can intake integer or decimal value and do following operations: \n",
    "#     a. Logarithmic function (log x) \n",
    "#     b. Exponential function (exp(x)) \n",
    "#     c. Power function with base 2 (2x) \n",
    "#     d. Square root\n",
    "\n",
    "def math_operations():\n",
    "    x = float(input(\"Enter the number : \"))\n",
    "    # Logarithmic function (log x)\n",
    "    logarithm = lambda x: x if x == 0 else logarithm(x/10) + 1\n",
    "    log_result = logarithm(x)\n",
    "\n",
    "    # Exponential function (exp(x))\n",
    "    exponential = lambda x: 1 if x == 0 else exponential(x-1) * 2.71828\n",
    "    exp_result = exponential(x)\n",
    "\n",
    "    # Power function with base 2 (2^x)\n",
    "    power = lambda x: 1 if x == 0 else power(x-1) * 2\n",
    "    power_result = power(x)\n",
    "\n",
    "    # Square root\n",
    "    sqrt_result = x ** 0.5\n",
    "\n",
    "    return log_result, exp_result, power_result, sqrt_result\n",
    "\n",
    "\n",
    "\n",
    "logarithm, exponential, power, sqrt = math_operations()\n",
    "\n",
    "print(f\"Logarithm of given value is: {logarithm}\")\n",
    "print(f\"Exponential of given value is: {exponential}\")\n",
    "print(f\"Power of 2 with exponent given value is: {power}\")\n",
    "print(f\"Square root of given value is: {sqrt}\")\n"
   ]
  },
  {
   "cell_type": "code",
   "execution_count": 18,
   "id": "dd6e725a",
   "metadata": {},
   "outputs": [
    {
     "name": "stdout",
     "output_type": "stream",
     "text": [
      "Enter you name: Aiyswarya Sivanandhan\n",
      "First Name: Aiyswarya\n",
      "Last Name: Sivanandhan\n"
     ]
    }
   ],
   "source": [
    "#9. Create a function that takes a full name as an argument and returns first name and last name.\n",
    "\n",
    "def get_name(full_name):\n",
    "    names = full_name.split()\n",
    "    first_name = names[0]\n",
    "    last_name = names[-1]\n",
    "    return first_name, last_name\n",
    "\n",
    "name = input(\"Enter you name: \")\n",
    "first_name, last_name = get_name(name)\n",
    "print(\"First Name:\", first_name)\n",
    "print(\"Last Name:\", last_name)"
   ]
  },
  {
   "cell_type": "code",
   "execution_count": null,
   "id": "feeb1981",
   "metadata": {},
   "outputs": [],
   "source": []
  }
 ],
 "metadata": {
  "kernelspec": {
   "display_name": "Python 3 (ipykernel)",
   "language": "python",
   "name": "python3"
  },
  "language_info": {
   "codemirror_mode": {
    "name": "ipython",
    "version": 3
   },
   "file_extension": ".py",
   "mimetype": "text/x-python",
   "name": "python",
   "nbconvert_exporter": "python",
   "pygments_lexer": "ipython3",
   "version": "3.10.9"
  }
 },
 "nbformat": 4,
 "nbformat_minor": 5
}
