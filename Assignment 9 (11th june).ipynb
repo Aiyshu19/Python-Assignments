{
 "cells": [
  {
   "cell_type": "code",
   "execution_count": 1,
   "id": "9dea6ce7",
   "metadata": {},
   "outputs": [
    {
     "name": "stdout",
     "output_type": "stream",
     "text": [
      "25\n"
     ]
    }
   ],
   "source": [
    "1. What is a lambda function in Python, and how does it differ from a regular function?\n",
    "Lambda functions, also known as anonymous functions or single-expression functions. They are defined using lambda keyword.\n",
    "Syntax:\n",
    "lambda arguments: expression\n",
    "\n",
    "Lambda functions:\n",
    "They are defined using the lambda keyword followed by the function arguments and a colon, all in a single line. \n",
    "They are single-expression funtion to perform singlr task.\n",
    "Lambda functions are often used as throwaway functions, primarily as arguments to other functions.\n",
    "\n",
    "Regular functions:\n",
    "They are defined using the def keyword, followed by the function name, parentheses for arguments, a colon, and an indented block of code.\n",
    "They can perform multiple statement which can perform complex task.\n",
    "Regular functions, on the other hand, are typically used for reusable code blocks that can be called multiple times within a program.\n",
    "\n",
    "Example:\n",
    "\n",
    "square = lambda x: x ** 2\n",
    "print(square(5))"
   ]
  },
  {
   "cell_type": "code",
   "execution_count": 2,
   "id": "050b9c8b",
   "metadata": {},
   "outputs": [
    {
     "name": "stdout",
     "output_type": "stream",
     "text": [
      "35\n"
     ]
    }
   ],
   "source": [
    "2. Can a lambda function in Python have multiple arguments? If yes, how can you define and use them?\n",
    "\n",
    "-Yes, a lambda function in Python can have multiple arguments. \n",
    "-To define and use multiple arguments in a lambda function, we can simply separate them with commas in the argument list. \n",
    "Example:\n",
    "    \n",
    "add = lambda x,y,z : x+y+z\n",
    "print(add(5,10,20))"
   ]
  },
  {
   "cell_type": "code",
   "execution_count": 3,
   "id": "a32e76b8",
   "metadata": {},
   "outputs": [
    {
     "name": "stdout",
     "output_type": "stream",
     "text": [
      "[2, 4, 6, 8, 10]\n",
      "[{'name': 'Alice', 'age': 20}, {'name': 'Jack', 'age': 22}, {'name': 'Manu', 'age': 18}]\n"
     ]
    }
   ],
   "source": [
    "3. How are lambda functions typically used in Python? Provide an example use case.\n",
    "\n",
    "Lambda functions in Python are typically used in situations where a small, anonymous function is needed for a specific operation.\n",
    "Some common use cases for lambda functions include:\n",
    "\n",
    "1) As arguments to higher-order functions: \n",
    "    Lambda functions can be passed as arguments to functions that accept other functions as parameters, such as map(), filter(), and sorted(). \n",
    "    This allows for concise and expressive code.\n",
    "\n",
    "2) For sorting and custom sorting keys: \n",
    "    Lambda functions can be used as the key parameter in sorting operations to define custom sorting criteria. \n",
    "\n",
    "3) One-time or short-lived functions:\n",
    "    This is particularly useful when the function is only needed in a specific context and not reused elsewhere in the code.\n",
    "\n",
    "#Example\n",
    "numbers = [1, 2, 3, 4, 5]\n",
    "list1 = map(lambda x: x * 2, numbers) # Using map() with lambda \n",
    "print(list(list1))  # Output: [2, 4, 6, 8, 10]\n",
    "\n",
    "# Using sorted() with lambda \n",
    "students = [\n",
    "    {'name': 'Alice', 'age': 20},\n",
    "    {'name': 'Manu', 'age': 18},\n",
    "    {'name': 'Jack', 'age': 22}\n",
    "]\n",
    "# Sorting students based on their name using a lambda function\n",
    "sorted_students = sorted(students, key=lambda x: x['name'])\n",
    "print(sorted_students)\n",
    "# Output: [{'name': 'Alice', 'age': 20}, {'name': 'Jack', 'age': 22}, {'name': 'Manu', 'age': 18}]\n"
   ]
  },
  {
   "cell_type": "code",
   "execution_count": null,
   "id": "109362cf",
   "metadata": {},
   "outputs": [],
   "source": [
    "4. What are the advantages and limitations of lambda functions compared to regular functions in Python?\n",
    "\n",
    "Advantages of Lambda function:\n",
    "    -Lambda functions more compact and expressive, especially for small and anonymous functions.\n",
    "    -Lambda functions can often lead to more readable code when used appropriately. \n",
    "    -This is useful in scenarios where a function is only needed for a specific operation.\n",
    "    -Lambda functions can be used with higher-order functions such as map(), filter(), and reduce()\n",
    "    \n",
    "Limitations of lambda functions compared to regular functions:\n",
    "    -Lambda functions can only contain a single expression and are not meant for handling complex logic or multiple statements. \n",
    "    -Regular functions offer more flexibility, reusability, and better readability for larger and more complex tasks.\n",
    "    -Debugging lambda functions can be more challenging compared to regular functions.\n",
    "    -Lambda functions lack the ability to include docstrings or formal documentation."
   ]
  },
  {
   "cell_type": "code",
   "execution_count": 5,
   "id": "6deaad2a",
   "metadata": {},
   "outputs": [
    {
     "name": "stdout",
     "output_type": "stream",
     "text": [
      "Hello, Students!!\n"
     ]
    }
   ],
   "source": [
    "# 5. Are lambda functions in Python able to access variables defined outside of their own scope? Explain with an example.\n",
    "# -Yes, lambda functions in Python can access variables defined outside of their own scope.\n",
    "# -This behavior is known as \"lexical scoping\" or \"closure\". The lambda functions can access variables from their enclosing scope, \n",
    "# allowing them to use and refer to those variables even after the scope has ended. \n",
    "# Example:\n",
    "    \n",
    "def lexical_scoping():\n",
    "    message = \"Hello\"\n",
    "    inner_function = lambda name: f\"{message}, {name}!\"\n",
    "    return inner_function\n",
    "\n",
    "greeting = lexical_scoping()\n",
    "print(greeting(\"Students!\"))  # Output: Hello, Students!\n",
    "\n"
   ]
  },
  {
   "cell_type": "code",
   "execution_count": 5,
   "id": "e3a2edbd",
   "metadata": {},
   "outputs": [
    {
     "name": "stdout",
     "output_type": "stream",
     "text": [
      "Square Root of the given number :  25\n"
     ]
    }
   ],
   "source": [
    "# 6. Write a lambda function to calculate the square of a given number.\n",
    "\n",
    "square_root = lambda x : x**2\n",
    "print(\"Square Root of the given number : \",square_root(5))"
   ]
  },
  {
   "cell_type": "code",
   "execution_count": 8,
   "id": "3c59164b",
   "metadata": {},
   "outputs": [
    {
     "name": "stdout",
     "output_type": "stream",
     "text": [
      "Maximum value in the list is :  20\n",
      "Maximum value in the list is :  20\n"
     ]
    }
   ],
   "source": [
    "# 7. Create a lambda function to find the maximum value in a list of integers.\n",
    "numbers = [10,2,15,20,3]\n",
    "max_value = lambda x: max(x)\n",
    "print(\"Maximum value in the list is : \",max_value(numbers))  # Output: 20\n",
    "\n",
    "list1 = [10,2,15,20,3]\n",
    "max_value = max(map(lambda x: x, list1))\n",
    "print(\"Maximum value in the list is : \",max_value)"
   ]
  },
  {
   "cell_type": "code",
   "execution_count": 11,
   "id": "64042ba2",
   "metadata": {},
   "outputs": [
    {
     "name": "stdout",
     "output_type": "stream",
     "text": [
      "Even numbers from a list :  [10, 2, 20]\n"
     ]
    }
   ],
   "source": [
    "# 8. Implement a lambda function to filter out all the even numbers from a list of integers.\n",
    "\n",
    "list1 = [10,2,15,20,3]\n",
    "even_numbers = list(filter(lambda x: x % 2 == 0, numbers))\n",
    "print(\"Even numbers from a list : \",even_numbers)"
   ]
  },
  {
   "cell_type": "code",
   "execution_count": 14,
   "id": "fe48cfa9",
   "metadata": {},
   "outputs": [
    {
     "name": "stdout",
     "output_type": "stream",
     "text": [
      "Sorted List :  ['Kiwi', 'Apple', 'Banana', 'Pineapple']\n"
     ]
    }
   ],
   "source": [
    "# 9. Write a lambda function to sort a list of strings in ascending order based on the length of each string.\n",
    "\n",
    "list1 = [\"Banana\",\"Apple\",\"Pineapple\",\"Kiwi\"]\n",
    "sorted_list = sorted(list1, key=lambda x : len(x))\n",
    "print(\"Sorted List : \", sorted_list)"
   ]
  },
  {
   "cell_type": "code",
   "execution_count": 20,
   "id": "35c5dbb7",
   "metadata": {},
   "outputs": [
    {
     "name": "stdout",
     "output_type": "stream",
     "text": [
      "Enter the value of list1: 2345671\n",
      "Enter the value of list2: 367891\n",
      "['3', '6', '7', '1']\n"
     ]
    }
   ],
   "source": [
    "# 10. Create a lambda function that takes two lists as input and returns a new list containing the common elements between the two lists.\n",
    "list1 = list(input (\"Enter the value of list1: \"))\n",
    "list2 = list(input (\"Enter the value of list2: \"))\n",
    "common_elements = list(filter(lambda x: x in list1, list2))\n",
    "print(common_elements)"
   ]
  },
  {
   "cell_type": "code",
   "execution_count": 1,
   "id": "98fd01de",
   "metadata": {},
   "outputs": [
    {
     "name": "stdout",
     "output_type": "stream",
     "text": [
      "The factorial of 5 is: 120\n"
     ]
    }
   ],
   "source": [
    "#11. Write a recursive function to calculate the factorial of a given positive integer.\n",
    "def factorial(n):\n",
    "    if n == 0:\n",
    "        return 1\n",
    "    else:\n",
    "        return n * factorial(n-1)\n",
    "\n",
    "num = 5\n",
    "result = factorial(num)\n",
    "print(f\"The factorial of {num} is: {result}\")  # Output: The factorial of 5 is: 120\n"
   ]
  },
  {
   "cell_type": "code",
   "execution_count": 4,
   "id": "28f6d911",
   "metadata": {},
   "outputs": [
    {
     "name": "stdout",
     "output_type": "stream",
     "text": [
      "The Fibonacci number of 5 is: 3\n"
     ]
    }
   ],
   "source": [
    "# 12. Implement a recursive function to compute the nth Fibonacci number.\n",
    "def fibonacci(n):\n",
    "    if n <= 0:\n",
    "        return \"Input must be a positive integer.\"\n",
    "    elif n == 1:\n",
    "        return 0\n",
    "    elif n == 2:\n",
    "        return 1\n",
    "    else:\n",
    "        return fibonacci(n - 1) + fibonacci(n - 2)\n",
    "\n",
    "num = 5\n",
    "result = fibonacci(num)\n",
    "print(f\"The Fibonacci number of {num} is: {result}\")  # Output: The 5th Fibonacci number is: 3\n",
    " "
   ]
  },
  {
   "cell_type": "code",
   "execution_count": 7,
   "id": "fd6f16ab",
   "metadata": {},
   "outputs": [
    {
     "name": "stdout",
     "output_type": "stream",
     "text": [
      "The sum of the elements in the list is: 15\n"
     ]
    }
   ],
   "source": [
    "# 13. Create a recursive function to find the sum of all the elements in a given list.\n",
    "def rec_sum(n):\n",
    "    if len(n) == 0:\n",
    "        return 0\n",
    "    else:\n",
    "        return n[0] + rec_sum(n[1:])\n",
    "\n",
    "# Example usage\n",
    "numbers = [1, 2, 3, 4, 5]\n",
    "result = rec_sum(numbers)\n",
    "print(f\"The sum of the elements in the list is: {result}\")  # Output: The sum of the elements in the list is: 15\n",
    "\n"
   ]
  },
  {
   "cell_type": "code",
   "execution_count": 2,
   "id": "d042144c",
   "metadata": {},
   "outputs": [
    {
     "name": "stdout",
     "output_type": "stream",
     "text": [
      "Enter String : dad\n",
      "The string is a palindrome.\n"
     ]
    }
   ],
   "source": [
    "# 14. Write a recursive function to determine whether a given string is a palindrome.\n",
    "\n",
    "def is_palindrome(string):\n",
    "    if len(string) < 1:\n",
    "        return True\n",
    "    elif string[0] != string[-1]:\n",
    "        return False\n",
    "    else:\n",
    "        return is_palindrome(string[1:-1])\n",
    "\n",
    "str1 = input(\"Enter String : \")\n",
    "if(is_palindrome(str1)): \n",
    "    print(\"The string is a palindrome.\") \n",
    "else: \n",
    "    print(\"The string is not a palindrome.\") "
   ]
  },
  {
   "cell_type": "code",
   "execution_count": 3,
   "id": "27a7b896",
   "metadata": {},
   "outputs": [
    {
     "name": "stdout",
     "output_type": "stream",
     "text": [
      "The GCD of 24 and 36 is: 12\n"
     ]
    }
   ],
   "source": [
    "#15. Implement a recursive function to find the greatest common divisor (GCD) of two positive integers.\n",
    "\n",
    "def gcd(a, b):\n",
    "    if b == 0:\n",
    "        return a\n",
    "    else:\n",
    "        return gcd(b, a % b)\n",
    "\n",
    "num1 = 24\n",
    "num2 = 36\n",
    "result = gcd(num1, num2)\n",
    "print(f\"The GCD of {num1} and {num2} is: {result}\")  # Output: The GCD of 24 and 36 is: 12\n"
   ]
  },
  {
   "cell_type": "code",
   "execution_count": null,
   "id": "61417f20",
   "metadata": {},
   "outputs": [],
   "source": []
  }
 ],
 "metadata": {
  "kernelspec": {
   "display_name": "Python 3 (ipykernel)",
   "language": "python",
   "name": "python3"
  },
  "language_info": {
   "codemirror_mode": {
    "name": "ipython",
    "version": 3
   },
   "file_extension": ".py",
   "mimetype": "text/x-python",
   "name": "python",
   "nbconvert_exporter": "python",
   "pygments_lexer": "ipython3",
   "version": "3.10.9"
  }
 },
 "nbformat": 4,
 "nbformat_minor": 5
}
